{
 "cells": [
  {
   "cell_type": "markdown",
   "metadata": {},
   "source": [
    "# 퍼셉트론 학습 알고리즘으로 XOR 문제 학습\n",
    "* 서로 다를 때 1 출력"
   ]
  },
  {
   "cell_type": "code",
   "execution_count": 1,
   "metadata": {},
   "outputs": [],
   "source": [
    "from sklearn.linear_model import Perceptron\n",
    "\n",
    "# 학습용 데이터 셋\n",
    "X = [[0,0], [0,1], [1, 0], [1, 1]]\n",
    "y = [0, 1, 1, 0]"
   ]
  },
  {
   "cell_type": "code",
   "execution_count": 2,
   "metadata": {},
   "outputs": [
    {
     "data": {
      "text/plain": [
       "array([0, 0, 0, 0])"
      ]
     },
     "execution_count": 2,
     "metadata": {},
     "output_type": "execute_result"
    }
   ],
   "source": [
    "# 퍼셉트론 모델 생성\n",
    "clf = Perceptron()\n",
    "\n",
    "# 학습\n",
    "clf.fit(X, y)\n",
    "\n",
    "# 결과 출력\n",
    "clf.predict(X)"
   ]
  },
  {
   "cell_type": "markdown",
   "metadata": {},
   "source": [
    "### Perceptron을 이용한 학습 결과\n",
    "* `정답` : [0, 1, 1, 0]\n",
    "* `결과` : [0, 0, 0, 0]\n",
    "\n",
    "* `이유` : 퍼셉트론은 선형 분리가 가능한 문제만 학습 가능\n",
    "\n",
    "\t* XOR 문제는 한개의 직선으로 분리가 불가능\n",
    "\t* but, 2개의 직선으로는 분리 가능 -> `다층 퍼셉트론`"
   ]
  }
 ],
 "metadata": {
  "kernelspec": {
   "display_name": "base",
   "language": "python",
   "name": "python3"
  },
  "language_info": {
   "codemirror_mode": {
    "name": "ipython",
    "version": 3
   },
   "file_extension": ".py",
   "mimetype": "text/x-python",
   "name": "python",
   "nbconvert_exporter": "python",
   "pygments_lexer": "ipython3",
   "version": "3.11.5"
  }
 },
 "nbformat": 4,
 "nbformat_minor": 2
}
