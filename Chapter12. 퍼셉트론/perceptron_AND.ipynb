{
 "cells": [
  {
   "cell_type": "markdown",
   "metadata": {},
   "source": [
    "# 퍼셉트론 학습 알고리즘으로 AND 문제 학습"
   ]
  },
  {
   "cell_type": "code",
   "execution_count": 1,
   "metadata": {},
   "outputs": [],
   "source": [
    "import numpy as np\n",
    "\n",
    "epsilon = 0.0000001"
   ]
  },
  {
   "cell_type": "code",
   "execution_count": 2,
   "metadata": {},
   "outputs": [],
   "source": [
    "# 계단 함수(활성화 함수) 구현\n",
    "def step_func(t) :\n",
    "\tif t > epsilon : return 1\n",
    "\telse : return 0\t"
   ]
  },
  {
   "cell_type": "code",
   "execution_count": 3,
   "metadata": {},
   "outputs": [],
   "source": [
    "# 훈련 데이터 셋 - 맨 끝의 1은 바이어스를 위한 입력 신호\n",
    "X = np.array([\n",
    "\t[0, 0, 1],\n",
    "\t[0, 1, 1],\n",
    "\t[1, 0, 1],\n",
    "\t[1, 1, 1]\n",
    "])\n",
    "\n",
    "# 정답 데이터 셋\n",
    "y = np.array([0, 0, 0, 1])\n",
    "\n",
    "# 가중치를 저장하는 행렬\n",
    "W = np.zeros(len(X[0]))"
   ]
  },
  {
   "cell_type": "code",
   "execution_count": 4,
   "metadata": {},
   "outputs": [],
   "source": [
    "# 퍼셉트론 학습 알고리즘\n",
    "def perceptron_fit(X, Y, epochs=10) :\t# epochs : 반복 횟수\n",
    "\tglobal W\n",
    "\teta = 0.2\t# 학습률\n",
    "\n",
    "\tfor t in range(epochs) :\n",
    "\t\tprint(f\"==[epoch : {t}]============\")\n",
    "\t\t\n",
    "\t\tfor i in range(len(X)) :\n",
    "\t\t\tpred = step_func(np.dot(X[i], W))\n",
    "\t\t\terror = Y[i] - pred\t\t# 오차 계산\n",
    "\n",
    "\t\t\tW += eta * error * X[i]\t# 가중치 업데이트\n",
    "\n",
    "\t\t\tprint(f'현재 처리 입력 = {X[i]} / 정답 = {Y[i]} / 출력 = {pred} / 업데이트 된 가중치 = {W}')\n",
    "\t\tprint(\"=============================\")"
   ]
  },
  {
   "cell_type": "code",
   "execution_count": 5,
   "metadata": {},
   "outputs": [],
   "source": [
    "# 예측 함수\n",
    "def perceptron_predict(X, Y) :\n",
    "\tglobal W\n",
    "\tfor x in X :\n",
    "\t\tprint(x[0], x[1], \"->\", step_func(np.dot(x, W)))"
   ]
  },
  {
   "cell_type": "code",
   "execution_count": 6,
   "metadata": {},
   "outputs": [
    {
     "name": "stdout",
     "output_type": "stream",
     "text": [
      "==[epoch : 0]============\n",
      "현재 처리 입력 = [0 0 1] / 정답 = 0 / 출력 = 0 / 업데이트 된 가중치 = [0. 0. 0.]\n",
      "현재 처리 입력 = [0 1 1] / 정답 = 0 / 출력 = 0 / 업데이트 된 가중치 = [0. 0. 0.]\n",
      "현재 처리 입력 = [1 0 1] / 정답 = 0 / 출력 = 0 / 업데이트 된 가중치 = [0. 0. 0.]\n",
      "현재 처리 입력 = [1 1 1] / 정답 = 1 / 출력 = 0 / 업데이트 된 가중치 = [0.2 0.2 0.2]\n",
      "=============================\n",
      "==[epoch : 1]============\n",
      "현재 처리 입력 = [0 0 1] / 정답 = 0 / 출력 = 1 / 업데이트 된 가중치 = [0.2 0.2 0. ]\n",
      "현재 처리 입력 = [0 1 1] / 정답 = 0 / 출력 = 1 / 업데이트 된 가중치 = [ 0.2  0.  -0.2]\n",
      "현재 처리 입력 = [1 0 1] / 정답 = 0 / 출력 = 0 / 업데이트 된 가중치 = [ 0.2  0.  -0.2]\n",
      "현재 처리 입력 = [1 1 1] / 정답 = 1 / 출력 = 0 / 업데이트 된 가중치 = [0.4 0.2 0. ]\n",
      "=============================\n",
      "==[epoch : 2]============\n",
      "현재 처리 입력 = [0 0 1] / 정답 = 0 / 출력 = 0 / 업데이트 된 가중치 = [0.4 0.2 0. ]\n",
      "현재 처리 입력 = [0 1 1] / 정답 = 0 / 출력 = 1 / 업데이트 된 가중치 = [ 0.4  0.  -0.2]\n",
      "현재 처리 입력 = [1 0 1] / 정답 = 0 / 출력 = 1 / 업데이트 된 가중치 = [ 0.2  0.  -0.4]\n",
      "현재 처리 입력 = [1 1 1] / 정답 = 1 / 출력 = 0 / 업데이트 된 가중치 = [ 0.4  0.2 -0.2]\n",
      "=============================\n",
      "==[epoch : 3]============\n",
      "현재 처리 입력 = [0 0 1] / 정답 = 0 / 출력 = 0 / 업데이트 된 가중치 = [ 0.4  0.2 -0.2]\n",
      "현재 처리 입력 = [0 1 1] / 정답 = 0 / 출력 = 0 / 업데이트 된 가중치 = [ 0.4  0.2 -0.2]\n",
      "현재 처리 입력 = [1 0 1] / 정답 = 0 / 출력 = 1 / 업데이트 된 가중치 = [ 0.2  0.2 -0.4]\n",
      "현재 처리 입력 = [1 1 1] / 정답 = 1 / 출력 = 0 / 업데이트 된 가중치 = [ 0.4  0.4 -0.2]\n",
      "=============================\n",
      "==[epoch : 4]============\n",
      "현재 처리 입력 = [0 0 1] / 정답 = 0 / 출력 = 0 / 업데이트 된 가중치 = [ 0.4  0.4 -0.2]\n",
      "현재 처리 입력 = [0 1 1] / 정답 = 0 / 출력 = 1 / 업데이트 된 가중치 = [ 0.4  0.2 -0.4]\n",
      "현재 처리 입력 = [1 0 1] / 정답 = 0 / 출력 = 0 / 업데이트 된 가중치 = [ 0.4  0.2 -0.4]\n",
      "현재 처리 입력 = [1 1 1] / 정답 = 1 / 출력 = 1 / 업데이트 된 가중치 = [ 0.4  0.2 -0.4]\n",
      "=============================\n",
      "==[epoch : 5]============\n",
      "현재 처리 입력 = [0 0 1] / 정답 = 0 / 출력 = 0 / 업데이트 된 가중치 = [ 0.4  0.2 -0.4]\n",
      "현재 처리 입력 = [0 1 1] / 정답 = 0 / 출력 = 0 / 업데이트 된 가중치 = [ 0.4  0.2 -0.4]\n",
      "현재 처리 입력 = [1 0 1] / 정답 = 0 / 출력 = 0 / 업데이트 된 가중치 = [ 0.4  0.2 -0.4]\n",
      "현재 처리 입력 = [1 1 1] / 정답 = 1 / 출력 = 1 / 업데이트 된 가중치 = [ 0.4  0.2 -0.4]\n",
      "=============================\n",
      "0 0 -> 0\n",
      "0 1 -> 0\n",
      "1 0 -> 0\n",
      "1 1 -> 1\n"
     ]
    }
   ],
   "source": [
    "# 학습 후 결과 출력\n",
    "perceptron_fit(X, y, 6)\n",
    "perceptron_predict(X, y)"
   ]
  },
  {
   "cell_type": "markdown",
   "metadata": {},
   "source": [
    "## scikit-learn의 라이브러리를 통한 학습\n",
    "* `sklearn.linear_model` 에 있는 `Perceptron` 라이브러리를 사용하여 구현"
   ]
  },
  {
   "cell_type": "code",
   "execution_count": 7,
   "metadata": {},
   "outputs": [],
   "source": [
    "# 라이브러리 호출\n",
    "from sklearn.linear_model import Perceptron"
   ]
  },
  {
   "cell_type": "code",
   "execution_count": 8,
   "metadata": {},
   "outputs": [],
   "source": [
    "# 학습용 입력 데이터와 정답 데이터\n",
    "X = [[0,0], [0,1], [1,0], [1,1]]\n",
    "y = [0, 0, 0, 1]"
   ]
  },
  {
   "cell_type": "code",
   "execution_count": 9,
   "metadata": {},
   "outputs": [],
   "source": [
    "# 퍼셉트론 모델 생성 / tol : 종료 조건\n",
    "clf = Perceptron(tol=1e-3, random_state=0)"
   ]
  },
  {
   "cell_type": "code",
   "execution_count": 10,
   "metadata": {},
   "outputs": [
    {
     "data": {
      "text/plain": [
       "array([0, 0, 0, 1])"
      ]
     },
     "execution_count": 10,
     "metadata": {},
     "output_type": "execute_result"
    }
   ],
   "source": [
    "# 학습 및 테스트\n",
    "clf.fit(X, y)\n",
    "\n",
    "clf.predict(X)"
   ]
  }
 ],
 "metadata": {
  "kernelspec": {
   "display_name": "base",
   "language": "python",
   "name": "python3"
  },
  "language_info": {
   "codemirror_mode": {
    "name": "ipython",
    "version": 3
   },
   "file_extension": ".py",
   "mimetype": "text/x-python",
   "name": "python",
   "nbconvert_exporter": "python",
   "pygments_lexer": "ipython3",
   "version": "3.11.5"
  }
 },
 "nbformat": 4,
 "nbformat_minor": 2
}
